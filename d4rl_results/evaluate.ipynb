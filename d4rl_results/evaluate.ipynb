{
 "cells": [
  {
   "cell_type": "code",
   "execution_count": 1,
   "metadata": {
    "collapsed": true,
    "pycharm": {
     "name": "#%%\n"
    }
   },
   "outputs": [],
   "source": [
    "import os\n",
    "import numpy as np\n",
    "from tqdm import tqdm\n",
    "import copy\n",
    "import matplotlib\n",
    "from matplotlib.colors import Normalize\n",
    "import matplotlib.pyplot as plt\n",
    "import seaborn as sns\n",
    "\n",
    "sns.set()\n",
    "from loader import load, SOURCES,\\\n",
    "    HOPPER_EXPERT_SCORE, HOPPER_RANDOM_SCORE,\\\n",
    "    HALFCHEETAH_EXPERT_SCORE, HALFCHEETAH_RANDOM_SCORE,\\\n",
    "    WALKER_EXPERT_SCORE, WALKER_RANDOM_SCORE"
   ]
  },
  {
   "cell_type": "code",
   "execution_count": 2,
   "outputs": [],
   "source": [
    "\n",
    "def get_returns(rewards, not_dones):\n",
    "    returns, ep_return = list(), 0\n",
    "\n",
    "    for i, not_done in enumerate(not_dones):\n",
    "        ep_return += rewards[i].item()\n",
    "        if not not_done:\n",
    "            returns.append(ep_return)\n",
    "            ep_return = 0\n",
    "\n",
    "    return returns"
   ],
   "metadata": {
    "collapsed": false,
    "pycharm": {
     "name": "#%%\n"
    }
   }
  },
  {
   "cell_type": "code",
   "execution_count": 3,
   "outputs": [
    {
     "name": "stderr",
     "output_type": "stream",
     "text": [
      "load datafile: 100%|██████████| 5/5 [00:00<00:00, 79.37it/s]\n"
     ]
    },
    {
     "name": "stdout",
     "output_type": "stream",
     "text": [
      "halfcheetah-medium-replay-v0\n"
     ]
    },
    {
     "name": "stderr",
     "output_type": "stream",
     "text": [
      "Search for Unique States in whole dataset halfcheetah-medium-replay-v0: 100%|██████████| 100000/100000 [00:00<00:00, 127225.92it/s]\n",
      "load datafile: 100%|██████████| 5/5 [00:00<00:00, 92.58it/s]\n"
     ]
    },
    {
     "name": "stdout",
     "output_type": "stream",
     "text": [
      "walker2d-medium-replay-v0\n"
     ]
    },
    {
     "name": "stderr",
     "output_type": "stream",
     "text": [
      "Search for Unique States in whole dataset walker2d-medium-replay-v0: 100%|██████████| 100000/100000 [00:00<00:00, 135265.40it/s]\n",
      "load datafile: 100%|██████████| 5/5 [00:00<00:00, 71.42it/s]\n"
     ]
    },
    {
     "name": "stdout",
     "output_type": "stream",
     "text": [
      "hopper-medium-replay-v0\n"
     ]
    },
    {
     "name": "stderr",
     "output_type": "stream",
     "text": [
      "Search for Unique States in whole dataset hopper-medium-replay-v0: 100%|██████████| 100000/100000 [00:00<00:00, 187970.07it/s]\n",
      "load datafile: 100%|██████████| 5/5 [00:00<00:00,  9.52it/s]\n"
     ]
    },
    {
     "name": "stdout",
     "output_type": "stream",
     "text": [
      "halfcheetah-random-v0\n"
     ]
    },
    {
     "name": "stderr",
     "output_type": "stream",
     "text": [
      "Search for Unique States in whole dataset halfcheetah-random-v0: 100%|██████████| 100000/100000 [00:00<00:00, 134228.29it/s]\n",
      "load datafile: 100%|██████████| 5/5 [00:00<00:00,  8.93it/s]\n"
     ]
    },
    {
     "name": "stdout",
     "output_type": "stream",
     "text": [
      "walker2d-random-v0\n"
     ]
    },
    {
     "name": "stderr",
     "output_type": "stream",
     "text": [
      "Search for Unique States in whole dataset walker2d-random-v0: 100%|██████████| 100000/100000 [00:00<00:00, 135136.96it/s]\n",
      "load datafile: 100%|██████████| 5/5 [00:00<00:00, 15.24it/s]\n"
     ]
    },
    {
     "name": "stdout",
     "output_type": "stream",
     "text": [
      "hopper-random-v0\n"
     ]
    },
    {
     "name": "stderr",
     "output_type": "stream",
     "text": [
      "Search for Unique States in whole dataset hopper-random-v0: 100%|██████████| 100000/100000 [00:00<00:00, 184843.49it/s]\n",
      "load datafile: 100%|██████████| 5/5 [00:00<00:00,  9.19it/s]\n"
     ]
    },
    {
     "name": "stdout",
     "output_type": "stream",
     "text": [
      "halfcheetah-medium-v0\n"
     ]
    },
    {
     "name": "stderr",
     "output_type": "stream",
     "text": [
      "Search for Unique States in whole dataset halfcheetah-medium-v0: 100%|██████████| 100000/100000 [00:00<00:00, 134878.35it/s]\n",
      "load datafile: 100%|██████████| 5/5 [00:00<00:00,  9.62it/s]\n"
     ]
    },
    {
     "name": "stdout",
     "output_type": "stream",
     "text": [
      "walker2d-medium-v0\n"
     ]
    },
    {
     "name": "stderr",
     "output_type": "stream",
     "text": [
      "Search for Unique States in whole dataset walker2d-medium-v0: 100%|██████████| 100000/100000 [00:00<00:00, 131404.37it/s]\n",
      "load datafile: 100%|██████████| 5/5 [00:00<00:00, 14.97it/s]\n"
     ]
    },
    {
     "name": "stdout",
     "output_type": "stream",
     "text": [
      "hopper-medium-v0\n"
     ]
    },
    {
     "name": "stderr",
     "output_type": "stream",
     "text": [
      "Search for Unique States in whole dataset hopper-medium-v0: 100%|██████████| 100000/100000 [00:00<00:00, 205362.74it/s]\n",
      "load datafile: 100%|██████████| 5/5 [00:00<00:00,  9.36it/s]\n"
     ]
    },
    {
     "name": "stdout",
     "output_type": "stream",
     "text": [
      "halfcheetah-expert-v0\n"
     ]
    },
    {
     "name": "stderr",
     "output_type": "stream",
     "text": [
      "Search for Unique States in whole dataset halfcheetah-expert-v0: 100%|██████████| 100000/100000 [00:00<00:00, 135673.14it/s]\n",
      "load datafile: 100%|██████████| 5/5 [00:00<00:00,  9.65it/s]\n"
     ]
    },
    {
     "name": "stdout",
     "output_type": "stream",
     "text": [
      "walker2d-expert-v0\n"
     ]
    },
    {
     "name": "stderr",
     "output_type": "stream",
     "text": [
      "Search for Unique States in whole dataset walker2d-expert-v0: 100%|██████████| 100000/100000 [00:00<00:00, 133868.56it/s]\n",
      "load datafile: 100%|██████████| 5/5 [00:00<00:00, 15.67it/s]\n"
     ]
    },
    {
     "name": "stdout",
     "output_type": "stream",
     "text": [
      "hopper-expert-v0\n"
     ]
    },
    {
     "name": "stderr",
     "output_type": "stream",
     "text": [
      "Search for Unique States in whole dataset hopper-expert-v0: 100%|██████████| 100000/100000 [00:00<00:00, 200800.08it/s]"
     ]
    },
    {
     "name": "stdout",
     "output_type": "stream",
     "text": [
      "['*', '*', '*', 'o', 'o', 'o', 'P', 'P', 'P', 's', 's', 's']\n",
      "[0.2078731122389764, 0.07772554454841242, 0.1508000775106667, -0.0018279380033688264, -0.00015761675131240922, 0.09819066922289242, 0.34062704911011804, 0.10820650768265962, 0.32017156989216194, 1.003987811475823, 0.6323248683998477, 1.0893964661749989]\n",
      "[81198, 96597, 32455, 99994, 99941, 9054, 31617, 85448, 21706, 50972, 90318, 19066]\n",
      "[1.0, 1.0, 1.0, 1.231483534077194, 1.0346180523204653, 0.27897088276074566, 0.389381511859898, 0.8845823369255774, 0.6688029579417655, 0.6277494519569448, 0.9349979813037672, 0.5874595593899246]\n"
     ]
    },
    {
     "name": "stderr",
     "output_type": "stream",
     "text": [
      "\n"
     ]
    }
   ],
   "source": [
    "np.random.seed(42)\n",
    "ind = np.arange(0, 100_000)\n",
    "\n",
    "limits = []\n",
    "\n",
    "dstype, tqs, sacos, performances = [], [], [], {}\n",
    "\n",
    "with open(\"results.csv\", \"r\") as f:\n",
    "    for l, line in enumerate(f):\n",
    "        if l == 0: continue\n",
    "        splits = line.split(\";\")\n",
    "        performances[splits[0]] = [float(s) for s in splits[1:]]\n",
    "\n",
    "for s, (name, link) in enumerate(SOURCES.items()):\n",
    "\n",
    "    states, actions, rewards, not_dones = load(name, link)\n",
    "\n",
    "    print(name)\n",
    "\n",
    "    if \"replay\" in name:\n",
    "        dstype.append(\"*\")\n",
    "    elif \"random\" in name:\n",
    "        dstype.append(\"o\")\n",
    "    elif \"medium\" in name:\n",
    "        dstype.append(\"P\")\n",
    "    elif \"expert\" in name:\n",
    "        dstype.append(\"s\")\n",
    "\n",
    "    d_return = np.mean(get_returns(rewards, not_dones))\n",
    "    if \"hopper\" in name:\n",
    "        tq = (d_return - HOPPER_RANDOM_SCORE) / (HOPPER_EXPERT_SCORE - HOPPER_RANDOM_SCORE)\n",
    "    elif \"halfcheetah\" in name:\n",
    "        tq = (d_return - HALFCHEETAH_RANDOM_SCORE) / (HALFCHEETAH_EXPERT_SCORE - HALFCHEETAH_RANDOM_SCORE)\n",
    "    elif \"walker\" in name:\n",
    "        tq = (d_return - WALKER_RANDOM_SCORE) / (WALKER_EXPERT_SCORE - WALKER_RANDOM_SCORE)\n",
    "    tqs.append(tq)\n",
    "\n",
    "    pairs = np.concatenate((states, actions), axis=1)[ind]\n",
    "\n",
    "    if s < 3:\n",
    "        limits_ = []\n",
    "        for axis in range(len(pairs[0])):\n",
    "            limits_.append((np.min(pairs[:, axis]), np.max(pairs[:, axis])))\n",
    "        limits.append(limits_)\n",
    "\n",
    "    for axis in range(len(pairs[0])):\n",
    "        axmin, axmax = limits[s % 3][axis]\n",
    "\n",
    "        pairs[:, axis] = np.digitize(pairs[:, axis], np.linspace(axmin, axmax, num=5))\n",
    "    pairs.astype(int)\n",
    "\n",
    "    unique = set()\n",
    "    for state in tqdm(pairs,\n",
    "                      desc=f\"Search for Unique States in whole dataset {name}\",\n",
    "                      total=len(pairs)):\n",
    "        unique.add(\",\".join([str(s) for s in state]))\n",
    "    sacos.append(len(unique))\n",
    "\n",
    "sacos_ = copy.copy(sacos)\n",
    "for i in range(3):\n",
    "    for j in range(4):\n",
    "        sacos_[i + j * 3] = sacos[i + j * 3] / sacos[i]\n",
    "\n",
    "print(dstype)\n",
    "print(tqs)\n",
    "print(sacos)\n",
    "print(sacos_)"
   ],
   "metadata": {
    "collapsed": false,
    "pycharm": {
     "name": "#%%\n"
    }
   }
  },
  {
   "cell_type": "code",
   "execution_count": 4,
   "outputs": [
    {
     "name": "stdout",
     "output_type": "stream",
     "text": [
      "{'halfcheetah-medium-replay ': [38.4, -2.4, 36.2, 45.6, 45.9, 46.2], 'hopper-medium-replay': [11.3, 1.9, 10.8, -0.3, 0.9, 32.6], 'walker2d-medium-replay': [11.8, 3.5, 25.3, 0.7, 0.8, 48.6], 'halfcheetah-random ': [2.1, 30.5, 25.5, 23.5, 28.1, 35.4], 'hopper-random': [9.8, 11.3, 9.5, 11.1, 12.0, 10.8], 'walker2d-random ': [1.6, 4.1, 6.7, 0.8, 0.5, 7.0], 'halfcheetah-medium ': [36.1, -4.3, 38.6, 44.0, 45.5, 44.4], 'walker2d-medium': [6.6, 0.9, 33.2, 72.7, 81.3, 79.2], 'hopper-medium ': [29.0, 0.8, 47.6, 31.2, 32.3, 58.0], 'halfcheetah-expert ': [107.0, -1.9, 108.2, 3.8, -1.1, 104.8], 'hopper-expert ': [109.0, 0.7, 110.3, 6.6, 3.7, 109.9], 'walker2d-expert': [125.7, -0.3, 106.1, -0.2, -0.0, 153.9]}\n",
      "[[ 38.4  11.3  11.8   2.1   9.8   1.6  36.1   6.6  29.  107.  109.  125.7]\n",
      " [ -2.4   1.9   3.5  30.5  11.3   4.1  -4.3   0.9   0.8  -1.9   0.7  -0.3]\n",
      " [ 36.2  10.8  25.3  25.5   9.5   6.7  38.6  33.2  47.6 108.2 110.3 106.1]\n",
      " [ 45.6  -0.3   0.7  23.5  11.1   0.8  44.   72.7  31.2   3.8   6.6  -0.2]\n",
      " [ 45.9   0.9   0.8  28.1  12.    0.5  45.5  81.3  32.3  -1.1   3.7  -0. ]\n",
      " [ 46.2  32.6  48.6  35.4  10.8   7.   44.4  79.2  58.  104.8 109.9 153.9]]\n"
     ]
    }
   ],
   "source": [
    "print(performances)\n",
    "algos = [\"BC\", \"SAC\", \"BEAR\", \"BRAC-p\", \"BRAC-v\", \"CQL\"]\n",
    "\n",
    "p_algos = []\n",
    "\n",
    "for a in range(len(algos)):\n",
    "    ps = []\n",
    "    for values in performances.values():\n",
    "        ps.append(values[a])\n",
    "    p_algos.append(ps)\n",
    "p_algos = np.asarray(p_algos)\n",
    "print(p_algos)"
   ],
   "metadata": {
    "collapsed": false,
    "pycharm": {
     "name": "#%%\n"
    }
   }
  },
  {
   "cell_type": "code",
   "execution_count": 5,
   "outputs": [],
   "source": [
    "sacos_ = copy.copy(sacos)\n",
    "for i in range(3):\n",
    "    for j in range(4):\n",
    "        sacos_[i + j * 3] = sacos[i + j * 3] / sacos[i]"
   ],
   "metadata": {
    "collapsed": false,
    "pycharm": {
     "name": "#%%\n"
    }
   }
  },
  {
   "cell_type": "code",
   "execution_count": 6,
   "outputs": [
    {
     "name": "stderr",
     "output_type": "stream",
     "text": [
      "C:\\Users\\Kai\\AppData\\Local\\Temp\\ipykernel_12444\\4096803636.py:30: MatplotlibDeprecationWarning: Auto-removal of grids by pcolor() and pcolormesh() is deprecated since 3.5 and will be removed two minor releases later; please call grid(False) first.\n",
      "  f.colorbar(matplotlib.cm.ScalarMappable(norm=normalize, cmap=\"viridis\"), ax=axs, anchor=(1.3, 0.55),\n",
      "C:\\Users\\Kai\\AppData\\Local\\Temp\\ipykernel_12444\\4096803636.py:33: UserWarning: This figure includes Axes that are not compatible with tight_layout, so results might be incorrect.\n",
      "  f.tight_layout(rect=(0.022, 0.022, 0.91, 1))\n"
     ]
    },
    {
     "data": {
      "text/plain": "<Figure size 864x576 with 7 Axes>",
      "image/png": "[encoded data removed]"
     },
     "metadata": {},
     "output_type": "display_data"
    }
   ],
   "source": [
    "image_type=\"pdf\"\n",
    "\n",
    "from matplotlib.lines import Line2D\n",
    "markers = [\"o\", \"*\", \"P\", \"s\"]\n",
    "datasets = [Line2D([0], [0], color=\"black\", marker=markers[i], linewidth=0) for i in range(len(markers))]\n",
    "\n",
    "x_label = r\"SACo of Dataset\"\n",
    "y_label = r\"TQ of Dataset\"\n",
    "from matplotlib.colors import LogNorm\n",
    "#normalize = Normalize(vmin=0, vmax=100, clip=True)\n",
    "normalize = LogNorm(vmin=1, vmax=120, clip=True)\n",
    "\n",
    "f, axs = plt.subplots(2, 3, figsize=(12, 8), sharex=True, sharey=True)\n",
    "axs = [item for sublist in zip(axs[:, 0], axs[:, 1], axs[:, 2]) for item in sublist]\n",
    "\n",
    "plt.xlim(xmin=-0.05, xmax=1.3)\n",
    "\n",
    "start_ = 0\n",
    "\n",
    "for a, algo in enumerate(algos):\n",
    "    ax = axs[a]\n",
    "\n",
    "    ax.axhline(y=1, color=\"silver\")\n",
    "    ax.axvline(x=1, color=\"silver\")\n",
    "    ax.set_title(algo, fontsize=\"large\")\n",
    "\n",
    "    for xp, yp, col, m in zip(sacos_[start_:], tqs[start_:], p_algos[a][start_:], dstype[start_:]):\n",
    "        ax.scatter(x=xp, y=yp, c=col, s=70, cmap=\"viridis\", norm=normalize, zorder=10, marker=m)\n",
    "\n",
    "f.colorbar(matplotlib.cm.ScalarMappable(norm=normalize, cmap=\"viridis\"), ax=axs, anchor=(1.3, 0.55),\n",
    "           shrink=0.7).set_label(label=\"Performance in % of Online Policy\", size=14)\n",
    "\n",
    "f.tight_layout(rect=(0.022, 0.022, 0.91, 1))\n",
    "f.legend(datasets, [\"random\", \"replay\", \"medium\", \"expert\"], loc=\"upper right\", bbox_to_anchor=(1, 0.954))\n",
    "f.text(0.5, 0.01, x_label, ha='center', fontsize=\"large\")\n",
    "f.text(0.005, 0.5, y_label, va='center', rotation='vertical', fontsize=\"large\")\n",
    "plt.savefig(os.path.join(f\"d4rl_algos.\" + image_type))\n",
    "plt.show()\n",
    "plt.close()"
   ],
   "metadata": {
    "collapsed": false,
    "pycharm": {
     "name": "#%%\n"
    }
   }
  },
  {
   "cell_type": "code",
   "execution_count": 6,
   "outputs": [],
   "source": [],
   "metadata": {
    "collapsed": false,
    "pycharm": {
     "name": "#%%\n"
    }
   }
  }
 ],
 "metadata": {
  "kernelspec": {
   "display_name": "Python 3",
   "language": "python",
   "name": "python3"
  },
  "language_info": {
   "codemirror_mode": {
    "name": "ipython",
    "version": 2
   },
   "file_extension": ".py",
   "mimetype": "text/x-python",
   "name": "python",
   "nbconvert_exporter": "python",
   "pygments_lexer": "ipython2",
   "version": "2.7.6"
  }
 },
 "nbformat": 4,
 "nbformat_minor": 0
}